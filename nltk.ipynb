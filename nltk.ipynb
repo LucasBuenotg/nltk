{
 "cells": [
  {
   "attachments": {},
   "cell_type": "markdown",
   "metadata": {},
   "source": [
    "# NLTK"
   ]
  },
  {
   "attachments": {},
   "cell_type": "markdown",
   "metadata": {},
   "source": [
    "No terminal:\n",
    "\n",
    "```\n",
    "pip install nltk\n",
    "```\n",
    "\n",
    "No terminal, entrar no python e:\n",
    "\n",
    "```\n",
    "import nltk\n",
    "nltk.download()\n",
    "```"
   ]
  },
  {
   "cell_type": "code",
   "execution_count": 55,
   "metadata": {},
   "outputs": [],
   "source": [
    "import nltk\n",
    "from nltk.corpus import stopwords\n",
    "from nltk.tokenize import word_tokenize\n",
    "from nltk.stem import RSLPStemmer, WordNetLemmatizer"
   ]
  },
  {
   "cell_type": "code",
   "execution_count": 48,
   "metadata": {},
   "outputs": [
    {
     "name": "stdout",
     "output_type": "stream",
     "text": [
      "['a', 'à', 'ao', 'aos', 'aquela', 'aquelas', 'aquele', 'aqueles', 'aquilo', 'as', 'às', 'até', 'com', 'como', 'da', 'das', 'de', 'dela', 'delas', 'dele', 'deles', 'depois', 'do', 'dos', 'e', 'é', 'ela', 'elas', 'ele', 'eles', 'em', 'entre', 'era', 'eram', 'éramos', 'essa', 'essas', 'esse', 'esses', 'esta', 'está', 'estamos', 'estão', 'estar', 'estas', 'estava', 'estavam', 'estávamos', 'este', 'esteja', 'estejam', 'estejamos', 'estes', 'esteve', 'estive', 'estivemos', 'estiver', 'estivera', 'estiveram', 'estivéramos', 'estiverem', 'estivermos', 'estivesse', 'estivessem', 'estivéssemos', 'estou', 'eu', 'foi', 'fomos', 'for', 'fora', 'foram', 'fôramos', 'forem', 'formos', 'fosse', 'fossem', 'fôssemos', 'fui', 'há', 'haja', 'hajam', 'hajamos', 'hão', 'havemos', 'haver', 'hei', 'houve', 'houvemos', 'houver', 'houvera', 'houverá', 'houveram', 'houvéramos', 'houverão', 'houverei', 'houverem', 'houveremos', 'houveria', 'houveriam', 'houveríamos', 'houvermos', 'houvesse', 'houvessem', 'houvéssemos', 'isso', 'isto', 'já', 'lhe', 'lhes', 'mais', 'mas', 'me', 'mesmo', 'meu', 'meus', 'minha', 'minhas', 'muito', 'na', 'não', 'nas', 'nem', 'no', 'nos', 'nós', 'nossa', 'nossas', 'nosso', 'nossos', 'num', 'numa', 'o', 'os', 'ou', 'para', 'pela', 'pelas', 'pelo', 'pelos', 'por', 'qual', 'quando', 'que', 'quem', 'são', 'se', 'seja', 'sejam', 'sejamos', 'sem', 'ser', 'será', 'serão', 'serei', 'seremos', 'seria', 'seriam', 'seríamos', 'seu', 'seus', 'só', 'somos', 'sou', 'sua', 'suas', 'também', 'te', 'tem', 'tém', 'temos', 'tenha', 'tenham', 'tenhamos', 'tenho', 'terá', 'terão', 'terei', 'teremos', 'teria', 'teriam', 'teríamos', 'teu', 'teus', 'teve', 'tinha', 'tinham', 'tínhamos', 'tive', 'tivemos', 'tiver', 'tivera', 'tiveram', 'tivéramos', 'tiverem', 'tivermos', 'tivesse', 'tivessem', 'tivéssemos', 'tu', 'tua', 'tuas', 'um', 'uma', 'você', 'vocês', 'vos']\n"
     ]
    }
   ],
   "source": [
    "print(stopwords.words(\"portuguese\"))"
   ]
  },
  {
   "cell_type": "code",
   "execution_count": 49,
   "metadata": {},
   "outputs": [
    {
     "name": "stdout",
     "output_type": "stream",
     "text": [
      "['O', 'rato', 'roeu', 'a', 'roupa', 'do', 'rei', 'de', 'Roma']\n"
     ]
    }
   ],
   "source": [
    "texto = \"O rato roeu a roupa do rei de Roma\"\n",
    "tokens = word_tokenize(texto, language=\"portuguese\")\n",
    "print(tokens)"
   ]
  },
  {
   "attachments": {},
   "cell_type": "markdown",
   "metadata": {},
   "source": [
    "> Stopwords"
   ]
  },
  {
   "cell_type": "code",
   "execution_count": 50,
   "metadata": {},
   "outputs": [],
   "source": [
    "# Carregar lista de stopwords para o português\n",
    "stopwords = set(stopwords.words(\"portuguese\"))\n",
    "\n",
    "# Texto de exemplo\n",
    "texto = \"Isso é um exemplo de uso para remoção de stopwords em um texto no idioma português.\"\n",
    "\n",
    "# Tokenizar o texto em palavras\n",
    "palavras = word_tokenize(texto)\n",
    "\n",
    "# Remover stopwords\n",
    "palavras_filtradas = [palavra for palavra in palavras if palavra.lower() not in stopwords]\n",
    "\n",
    "# Juntar as palavras filtradas de volta em um texto\n",
    "texto_filtrado = \" \".join(palavras_filtradas)"
   ]
  },
  {
   "cell_type": "code",
   "execution_count": 51,
   "metadata": {},
   "outputs": [
    {
     "name": "stdout",
     "output_type": "stream",
     "text": [
      "Texto original: Isso é um exemplo de uso para remoção de stopwords em um texto no idioma português.\n",
      "\n",
      "Texto com stopwords removidas: exemplo uso remoção stopwords texto idioma português .\n"
     ]
    }
   ],
   "source": [
    "# Execução\n",
    "print(f\"Texto original: {texto}\")\n",
    "print(f\"\\nTexto com stopwords removidas: {texto_filtrado}\")"
   ]
  },
  {
   "attachments": {},
   "cell_type": "markdown",
   "metadata": {},
   "source": [
    "> Stemming"
   ]
  },
  {
   "cell_type": "code",
   "execution_count": 52,
   "metadata": {},
   "outputs": [
    {
     "name": "stderr",
     "output_type": "stream",
     "text": [
      "[nltk_data] Downloading package rslp to\n",
      "[nltk_data]     C:\\Users\\logonrmlocal\\AppData\\Roaming\\nltk_data...\n",
      "[nltk_data]   Package rslp is already up-to-date!\n"
     ]
    },
    {
     "data": {
      "text/plain": [
       "True"
      ]
     },
     "execution_count": 52,
     "metadata": {},
     "output_type": "execute_result"
    }
   ],
   "source": [
    "# Baixar recursos adicionais no NLTK\n",
    "nltk.download(\"rslp\")"
   ]
  },
  {
   "cell_type": "code",
   "execution_count": 53,
   "metadata": {},
   "outputs": [],
   "source": [
    "# Instanciar o stemmer RSLP\n",
    "stemmer = RSLPStemmer()\n",
    "\n",
    "# Texto de exemplo\n",
    "texto = \"Eu estava pensando que poderia ser melhor.\"\n",
    "\n",
    "# Tokenizar o texto em palavras\n",
    "palavras = word_tokenize(texto, language=\"portuguese\")\n",
    "\n",
    "# Aplicar stemming às palavras\n",
    "palavras_stemmed = [stemmer.stem(palavra) for palavra in palavras]\n",
    "\n",
    "# Juntar as palavras stemizadas em um texto\n",
    "texto_stemmed = \" \".join(palavras_stemmed)"
   ]
  },
  {
   "cell_type": "code",
   "execution_count": 54,
   "metadata": {},
   "outputs": [
    {
     "name": "stdout",
     "output_type": "stream",
     "text": [
      "Texto original: Eu estava pensando que poderia ser melhor.\n",
      "\n",
      "Texto com stemming: eu est pens que pod ser melhor .\n"
     ]
    }
   ],
   "source": [
    "# Execução\n",
    "print(f\"Texto original: {texto}\")\n",
    "print(f\"\\nTexto com stemming: {texto_stemmed}\")"
   ]
  },
  {
   "attachments": {},
   "cell_type": "markdown",
   "metadata": {},
   "source": [
    "> WordNedLemmatizer"
   ]
  },
  {
   "cell_type": "code",
   "execution_count": 56,
   "metadata": {},
   "outputs": [
    {
     "name": "stderr",
     "output_type": "stream",
     "text": [
      "[nltk_data] Downloading package wordnet to\n",
      "[nltk_data]     C:\\Users\\logonrmlocal\\AppData\\Roaming\\nltk_data...\n",
      "[nltk_data]   Package wordnet is already up-to-date!\n"
     ]
    },
    {
     "data": {
      "text/plain": [
       "True"
      ]
     },
     "execution_count": 56,
     "metadata": {},
     "output_type": "execute_result"
    }
   ],
   "source": [
    "# Baixar recursos adicionais do NLTK\n",
    "nltk.download(\"wordnet\")"
   ]
  },
  {
   "cell_type": "code",
   "execution_count": 60,
   "metadata": {},
   "outputs": [],
   "source": [
    "# Instanciar o lematizador WordNet\n",
    "lemmatizer = WordNetLemmatizer()\n",
    "\n",
    "# Texto de exemplo\n",
    "texto = \"O novo livro do autor seria lançado em breve na feira do livro.\"\n",
    "\n",
    "# Tokenizar o texto em palavras\n",
    "palavras = word_tokenize(texto, language=\"portuguese\")\n",
    "\n",
    "# Aplicar lematização às palavras\n",
    "palavras_lematizadas = [lemmatizer.lemmatize(palavra) for palavra in palavras]\n",
    "\n",
    "# Juntar as palavras lematizadas em um texto\n",
    "texto_lematizado = \" \".join(palavras_lematizadas)"
   ]
  },
  {
   "cell_type": "code",
   "execution_count": 61,
   "metadata": {},
   "outputs": [
    {
     "name": "stdout",
     "output_type": "stream",
     "text": [
      "Texto original: O novo livro do autor seria lançado em breve na feira do livro.\n",
      "\n",
      "Texto com lematizção: O novo livro do autor seria lançado em breve na feira do livro .\n"
     ]
    }
   ],
   "source": [
    "# Execução\n",
    "print(f\"Texto original: {texto}\")\n",
    "print(f\"\\nTexto com lematizção: {texto_lematizado}\")"
   ]
  }
 ],
 "metadata": {
  "kernelspec": {
   "display_name": "Python 3",
   "language": "python",
   "name": "python3"
  },
  "language_info": {
   "codemirror_mode": {
    "name": "ipython",
    "version": 3
   },
   "file_extension": ".py",
   "mimetype": "text/x-python",
   "name": "python",
   "nbconvert_exporter": "python",
   "pygments_lexer": "ipython3",
   "version": "3.8.2"
  },
  "orig_nbformat": 4
 },
 "nbformat": 4,
 "nbformat_minor": 2
}
